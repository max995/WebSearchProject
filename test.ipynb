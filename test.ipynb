{
 "cells": [
  {
   "cell_type": "code",
   "execution_count": 2,
   "metadata": {
    "collapsed": false
   },
   "outputs": [
    {
     "ename": "JavaError",
     "evalue": "<super: <class 'JavaError'>, <JavaError object>>\n    Java stacktrace:\norg.apache.lucene.store.LockObtainFailedException: Lock held by this virtual machine: /Users/agatha/index/write.lock\n\tat org.apache.lucene.store.NativeFSLockFactory.obtainFSLock(NativeFSLockFactory.java:139)\n\tat org.apache.lucene.store.FSLockFactory.obtainLock(FSLockFactory.java:41)\n\tat org.apache.lucene.store.BaseDirectory.obtainLock(BaseDirectory.java:45)\n\tat org.apache.lucene.index.IndexWriter.<init>(IndexWriter.java:727)\n",
     "traceback": [
      "\u001b[0;31m---------------------------------------------------------------------------\u001b[0m",
      "\u001b[0;31mJavaError\u001b[0m                                 Traceback (most recent call last)",
      "\u001b[0;32m<ipython-input-2-59468636a290>\u001b[0m in \u001b[0;36m<module>\u001b[0;34m\u001b[0m\n\u001b[1;32m     14\u001b[0m \u001b[0;31m#writeConfig = IndexWriterConfig(lucene.VERSION,StandardAnalyzer())\u001b[0m\u001b[0;34m\u001b[0m\u001b[0;34m\u001b[0m\u001b[0;34m\u001b[0m\u001b[0m\n\u001b[1;32m     15\u001b[0m \u001b[0mwriteConfig\u001b[0m \u001b[0;34m=\u001b[0m \u001b[0mIndexWriterConfig\u001b[0m\u001b[0;34m(\u001b[0m\u001b[0manalyzer\u001b[0m\u001b[0;34m)\u001b[0m\u001b[0;34m\u001b[0m\u001b[0;34m\u001b[0m\u001b[0m\n\u001b[0;32m---> 16\u001b[0;31m \u001b[0mwriter\u001b[0m \u001b[0;34m=\u001b[0m \u001b[0mIndexWriter\u001b[0m\u001b[0;34m(\u001b[0m\u001b[0mindexDir\u001b[0m\u001b[0;34m,\u001b[0m\u001b[0mwriteConfig\u001b[0m\u001b[0;34m)\u001b[0m\u001b[0;34m\u001b[0m\u001b[0;34m\u001b[0m\u001b[0m\n\u001b[0m",
      "\u001b[0;31mJavaError\u001b[0m: <super: <class 'JavaError'>, <JavaError object>>\n    Java stacktrace:\norg.apache.lucene.store.LockObtainFailedException: Lock held by this virtual machine: /Users/agatha/index/write.lock\n\tat org.apache.lucene.store.NativeFSLockFactory.obtainFSLock(NativeFSLockFactory.java:139)\n\tat org.apache.lucene.store.FSLockFactory.obtainLock(FSLockFactory.java:41)\n\tat org.apache.lucene.store.BaseDirectory.obtainLock(BaseDirectory.java:45)\n\tat org.apache.lucene.index.IndexWriter.<init>(IndexWriter.java:727)\n"
     ],
     "output_type": "error"
    }
   ],
   "source": [
    "import sys\n",
    "import lucene\n",
    " \n",
    "from java.io import File\n",
    "from org.apache.lucene.analysis.standard import StandardAnalyzer\n",
    "from org.apache.lucene.document import Document, Field\n",
    "from org.apache.lucene.index import IndexWriter, IndexWriterConfig\n",
    "from org.apache.lucene.store import SimpleFSDirectory\n",
    "from org.apache.lucene.util import Version\n",
    "\n",
    "lucene.initVM()\n",
    "indexDir =SimpleFSDirectory(File(\"./index/\").toPath())\n",
    "analyzer= StandardAnalyzer()\n",
    "#writeConfig = IndexWriterConfig(lucene.VERSION,StandardAnalyzer())\n",
    "writeConfig = IndexWriterConfig(analyzer)\n",
    "writer = IndexWriter(indexDir,writeConfig)\n"
   ]
  },
  {
   "cell_type": "code",
   "execution_count": 30,
   "metadata": {},
   "outputs": [],
   "source": [
    ""
   ]
  },
  {
   "cell_type": "code",
   "execution_count": 30,
   "metadata": {},
   "outputs": [],
   "source": [
    ""
   ]
  },
  {
   "cell_type": "code",
   "execution_count": 30,
   "metadata": {},
   "outputs": [],
   "source": [
    ""
   ]
  },
  {
   "cell_type": "code",
   "execution_count": 30,
   "metadata": {},
   "outputs": [],
   "source": [
    ""
   ]
  },
  {
   "cell_type": "code",
   "execution_count": 30,
   "metadata": {},
   "outputs": [],
   "source": []
  },
  {
   "cell_type": "code",
   "execution_count": null,
   "metadata": {},
   "outputs": [],
   "source": []
  }
 ],
 "metadata": {
  "kernelspec": {
   "display_name": "Python 2",
   "language": "python",
   "name": "python2"
  },
  "language_info": {
   "codemirror_mode": {
    "name": "ipython",
    "version": 2
   },
   "file_extension": ".py",
   "mimetype": "text/x-python",
   "name": "python",
   "nbconvert_exporter": "python",
   "pygments_lexer": "ipython2",
   "version": "2.7.6"
  }
 },
 "nbformat": 4,
 "nbformat_minor": 0
}
